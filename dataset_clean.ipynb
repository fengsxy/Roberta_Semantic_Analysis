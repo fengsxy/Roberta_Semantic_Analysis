{
 "cells": [
  {
   "cell_type": "code",
   "execution_count": 2,
   "metadata": {},
   "outputs": [
    {
     "name": "stderr",
     "output_type": "stream",
     "text": [
      "0it [00:00, ?it/s]"
     ]
    },
    {
     "name": "stderr",
     "output_type": "stream",
     "text": [
      "278677it [00:02, 106854.62it/s]\n"
     ]
    }
   ],
   "source": [
    "import json\n",
    "from tqdm import tqdm\n",
    "\n",
    "file_path = 'Clothing_Shoes_and_Jewelry_5.json'\n",
    "data_list = []\n",
    "data = {}\n",
    "with open(file_path, 'r', encoding='utf-8') as file:\n",
    "    for line in tqdm(file):\n",
    "        data = json.loads(line)\n",
    "        data_list.append(data)\n"
   ]
  },
  {
   "cell_type": "code",
   "execution_count": 3,
   "metadata": {},
   "outputs": [
    {
     "name": "stdout",
     "output_type": "stream",
     "text": [
      "Total number of reviews: 278677\n",
      "First review: {'reviewerID': 'A1KLRMWW2FWPL4', 'asin': '0000031887', 'reviewerName': 'Amazon Customer \"cameramom\"', 'helpful': [0, 0], 'reviewText': \"This is a great tutu and at a really great price. It doesn't look cheap at all. I'm so glad I looked on Amazon and found such an affordable tutu that isn't made poorly. A++\", 'overall': 5.0, 'summary': 'Great tutu-  not cheaply made', 'unixReviewTime': 1297468800, 'reviewTime': '02 12, 2011'}\n"
     ]
    }
   ],
   "source": [
    "print('Total number of reviews:', len(data_list))\n",
    "print('First review:', data_list[0])"
   ]
  },
  {
   "cell_type": "code",
   "execution_count": 4,
   "metadata": {},
   "outputs": [],
   "source": [
    "#clean data to {text：, label: positive/negative}\n",
    "def clean_data(data_list):\n",
    "    cleaned_data = []\n",
    "    for data in data_list:\n",
    "        if data['overall'] > 3:\n",
    "            label = 'positive'\n",
    "        else:\n",
    "            label = 'negative'\n",
    "        cleaned_data.append({'text': data['reviewText'], 'label': label})\n",
    "    return cleaned_data\n",
    "clean_data_list = clean_data(data_list)"
   ]
  },
  {
   "cell_type": "code",
   "execution_count": 6,
   "metadata": {},
   "outputs": [],
   "source": [
    "#write cleaned data to file\n",
    "#split  training, validation, and testing sets.\n",
    "from sklearn.model_selection import train_test_split\n",
    "import os\n",
    "train_data, test_data = train_test_split(clean_data_list, test_size=0.2, random_state=42)\n",
    "train_data, val_data = train_test_split(train_data, test_size=0.2, random_state=42)\n",
    "data_path = './data/'\n",
    "file_name = 'Clothing_Shoes_and_Jewelry'\n",
    "with open(os.path.join(data_path, file_name + '_train.json'), 'w', encoding='utf-8') as file:\n",
    "    file.write(json.dumps(train_data))\n",
    "with open(os.path.join(data_path, file_name + '_val.json'), 'w', encoding='utf-8') as file:\n",
    "    file.write(json.dumps(val_data))\n",
    "with open(os.path.join(data_path, file_name + '_test.json'), 'w', encoding='utf-8') as file:\n",
    "    file.write(json.dumps(test_data))\n"
   ]
  },
  {
   "cell_type": "code",
   "execution_count": null,
   "metadata": {},
   "outputs": [],
   "source": []
  }
 ],
 "metadata": {
  "kernelspec": {
   "display_name": "pytorch",
   "language": "python",
   "name": "python3"
  },
  "language_info": {
   "codemirror_mode": {
    "name": "ipython",
    "version": 3
   },
   "file_extension": ".py",
   "mimetype": "text/x-python",
   "name": "python",
   "nbconvert_exporter": "python",
   "pygments_lexer": "ipython3",
   "version": "3.10.0"
  }
 },
 "nbformat": 4,
 "nbformat_minor": 2
}
